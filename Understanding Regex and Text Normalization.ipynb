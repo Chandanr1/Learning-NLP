{
  "cells": [
    {
      "cell_type": "markdown",
      "metadata": {
        "id": "view-in-github",
        "colab_type": "text"
      },
      "source": [
        "<a href=\"https://colab.research.google.com/github/Chandanr1/Learning-NLP/blob/main/Understanding%20Regex%20and%20Text%20Normalization.ipynb\" target=\"_parent\"><img src=\"https://colab.research.google.com/assets/colab-badge.svg\" alt=\"Open In Colab\"/></a>"
      ]
    },
    {
      "cell_type": "code",
      "source": [
        "import re"
      ],
      "metadata": {
        "id": "uZv3MDG-51TI"
      },
      "execution_count": 1,
      "outputs": []
    },
    {
      "cell_type": "code",
      "source": [
        "text = ' i love python programming'"
      ],
      "metadata": {
        "id": "nwyhHg5V519T"
      },
      "execution_count": 7,
      "outputs": []
    },
    {
      "cell_type": "code",
      "source": [
        "a=re.search(r'python',text)"
      ],
      "metadata": {
        "id": "GXZgXw2U5419"
      },
      "execution_count": 8,
      "outputs": []
    },
    {
      "cell_type": "code",
      "source": [
        "print(a)"
      ],
      "metadata": {
        "colab": {
          "base_uri": "https://localhost:8080/"
        },
        "id": "q8Uz1fEJ58sI",
        "outputId": "a2fe4c37-88b2-4000-9fbf-bdf334611fc5"
      },
      "execution_count": 9,
      "outputs": [
        {
          "output_type": "stream",
          "name": "stdout",
          "text": [
            "<re.Match object; span=(8, 14), match='python'>\n"
          ]
        }
      ]
    },
    {
      "cell_type": "code",
      "source": [
        "print(a.group())"
      ],
      "metadata": {
        "colab": {
          "base_uri": "https://localhost:8080/"
        },
        "id": "I-HcEjld59S2",
        "outputId": "8ff382a0-5181-4149-e028-d4d9aec4f019"
      },
      "execution_count": 10,
      "outputs": [
        {
          "output_type": "stream",
          "name": "stdout",
          "text": [
            "python\n"
          ]
        }
      ]
    },
    {
      "cell_type": "code",
      "source": [
        "a"
      ],
      "metadata": {
        "colab": {
          "base_uri": "https://localhost:8080/"
        },
        "id": "Kpw_uZsM5-sV",
        "outputId": "9a5bf113-889a-4b49-9f17-7e04b6f8eeb9"
      },
      "execution_count": 11,
      "outputs": [
        {
          "output_type": "execute_result",
          "data": {
            "text/plain": [
              "<re.Match object; span=(8, 14), match='python'>"
            ]
          },
          "metadata": {},
          "execution_count": 11
        }
      ]
    },
    {
      "cell_type": "code",
      "source": [
        "text='hello world'\n",
        "re.search(r'hello.w',text)\n",
        "print((re.search(r'hello.w',text)).group())"
      ],
      "metadata": {
        "colab": {
          "base_uri": "https://localhost:8080/"
        },
        "id": "u1K_t4Mj6FPy",
        "outputId": "6a13edf6-b2d1-4ba0-84c2-57a3d3dd013b"
      },
      "execution_count": 12,
      "outputs": [
        {
          "output_type": "stream",
          "name": "stdout",
          "text": [
            "hello w\n"
          ]
        }
      ]
    },
    {
      "cell_type": "code",
      "source": [
        "a=re.search(r'^hello',text)"
      ],
      "metadata": {
        "id": "M8ro_PoB6wlZ"
      },
      "execution_count": 15,
      "outputs": []
    },
    {
      "cell_type": "code",
      "source": [
        "a.group()"
      ],
      "metadata": {
        "colab": {
          "base_uri": "https://localhost:8080/",
          "height": 36
        },
        "id": "m3gwAhny7aUE",
        "outputId": "825eb718-aa5f-4cb5-8753-6e83960ebc20"
      },
      "execution_count": 16,
      "outputs": [
        {
          "output_type": "execute_result",
          "data": {
            "text/plain": [
              "'hello'"
            ],
            "application/vnd.google.colaboratory.intrinsic+json": {
              "type": "string"
            }
          },
          "metadata": {},
          "execution_count": 16
        }
      ]
    },
    {
      "cell_type": "code",
      "source": [
        "a=re.search(r'world$',text)\n",
        "a.group()"
      ],
      "metadata": {
        "colab": {
          "base_uri": "https://localhost:8080/",
          "height": 36
        },
        "id": "Os8JbZoR7bGJ",
        "outputId": "5210c5d5-bd2b-43f2-b2d7-a448fe1a2fd5"
      },
      "execution_count": 17,
      "outputs": [
        {
          "output_type": "execute_result",
          "data": {
            "text/plain": [
              "'world'"
            ],
            "application/vnd.google.colaboratory.intrinsic+json": {
              "type": "string"
            }
          },
          "metadata": {},
          "execution_count": 17
        }
      ]
    },
    {
      "cell_type": "code",
      "source": [
        "a=re.findall(r'[aeiou]',text)\n",
        "print(a)"
      ],
      "metadata": {
        "colab": {
          "base_uri": "https://localhost:8080/"
        },
        "id": "G_DFzhj47msk",
        "outputId": "6fdf3e18-56e0-4392-f46e-599f811ccc18"
      },
      "execution_count": 20,
      "outputs": [
        {
          "output_type": "stream",
          "name": "stdout",
          "text": [
            "['e', 'o', 'o']\n"
          ]
        }
      ]
    },
    {
      "cell_type": "code",
      "source": [
        "a=re.findall(r'[^aeiou]',text)\n",
        "print(a)"
      ],
      "metadata": {
        "colab": {
          "base_uri": "https://localhost:8080/"
        },
        "id": "Z73jGNwn8e1V",
        "outputId": "cb70fe53-5c15-4215-fa1f-d6f11d0c3602"
      },
      "execution_count": 21,
      "outputs": [
        {
          "output_type": "stream",
          "name": "stdout",
          "text": [
            "['h', 'l', 'l', ' ', 'w', 'r', 'l', 'd']\n"
          ]
        }
      ]
    },
    {
      "cell_type": "code",
      "source": [
        "text='998756 and 54'\n",
        "match=re.findall(r'\\d{2,6}',text)\n",
        "match"
      ],
      "metadata": {
        "colab": {
          "base_uri": "https://localhost:8080/"
        },
        "id": "4V_4k0a8814_",
        "outputId": "98dc7680-56ac-4607-ff60-8b85ee2b3c57"
      },
      "execution_count": 29,
      "outputs": [
        {
          "output_type": "execute_result",
          "data": {
            "text/plain": [
              "['998756', '54']"
            ]
          },
          "metadata": {},
          "execution_count": 29
        }
      ]
    },
    {
      "cell_type": "code",
      "source": [
        "text= ' i like red color, and the blue colour'\n",
        "match=re.findall(r'colou?r',text)\n",
        "match"
      ],
      "metadata": {
        "colab": {
          "base_uri": "https://localhost:8080/"
        },
        "id": "PSN1Hdzx9VId",
        "outputId": "21096edb-ca6c-4623-b7af-e6e9d356bc22"
      },
      "execution_count": 31,
      "outputs": [
        {
          "output_type": "execute_result",
          "data": {
            "text/plain": [
              "['color', 'colour']"
            ]
          },
          "metadata": {},
          "execution_count": 31
        }
      ]
    },
    {
      "cell_type": "code",
      "source": [
        "text = ' call me at 123-456-7890'\n",
        "match=re.findall(r'(\\d{3})-(\\d{3})-(\\d{4})',text)\n",
        "match"
      ],
      "metadata": {
        "colab": {
          "base_uri": "https://localhost:8080/"
        },
        "id": "eRQBXYZv-ixK",
        "outputId": "3c7e7486-aa57-4634-d4f8-9120db6f29f3"
      },
      "execution_count": 36,
      "outputs": [
        {
          "output_type": "execute_result",
          "data": {
            "text/plain": [
              "[('123', '456', '7890')]"
            ]
          },
          "metadata": {},
          "execution_count": 36
        }
      ]
    },
    {
      "cell_type": "code",
      "source": [
        "text='1234 and 5678'\n",
        "match=re.search(r'\\d*',text)\n",
        "match.group()"
      ],
      "metadata": {
        "colab": {
          "base_uri": "https://localhost:8080/",
          "height": 36
        },
        "id": "MlIh7Lmi_QNf",
        "outputId": "9c36827c-bc3f-4593-c602-416d35cda23f"
      },
      "execution_count": 45,
      "outputs": [
        {
          "output_type": "execute_result",
          "data": {
            "text/plain": [
              "'1234'"
            ],
            "application/vnd.google.colaboratory.intrinsic+json": {
              "type": "string"
            }
          },
          "metadata": {},
          "execution_count": 45
        }
      ]
    },
    {
      "cell_type": "code",
      "source": [
        "match=re.search(r'(?:\\d{4})',text)\n",
        "match.group()"
      ],
      "metadata": {
        "colab": {
          "base_uri": "https://localhost:8080/",
          "height": 36
        },
        "id": "EpaCPOcSAJRF",
        "outputId": "fd5b48af-8ad0-4804-e237-28157c9349fa"
      },
      "execution_count": 47,
      "outputs": [
        {
          "output_type": "execute_result",
          "data": {
            "text/plain": [
              "'1234'"
            ],
            "application/vnd.google.colaboratory.intrinsic+json": {
              "type": "string"
            }
          },
          "metadata": {},
          "execution_count": 47
        }
      ]
    },
    {
      "cell_type": "code",
      "source": [
        "import re\n",
        "text = 'Hello. how are you?'\n",
        "match=re.search(r'Hello',text)\n",
        "match.group()"
      ],
      "metadata": {
        "colab": {
          "base_uri": "https://localhost:8080/",
          "height": 36
        },
        "id": "6jbyyR7tFtHn",
        "outputId": "e00e8452-7c3b-4b2b-aade-11e504339b31"
      },
      "execution_count": 5,
      "outputs": [
        {
          "output_type": "execute_result",
          "data": {
            "text/plain": [
              "'Hello'"
            ],
            "application/vnd.google.colaboratory.intrinsic+json": {
              "type": "string"
            }
          },
          "metadata": {},
          "execution_count": 5
        }
      ]
    },
    {
      "cell_type": "code",
      "source": [
        "text = \"Hello#  how are you.\"\n",
        "match=re.search(r'Hello\\#',text)\n",
        "match.group()"
      ],
      "metadata": {
        "colab": {
          "base_uri": "https://localhost:8080/",
          "height": 36
        },
        "id": "hKQWphNCfeip",
        "outputId": "6929463d-27d9-4589-a2b7-a2ea00c94fa8"
      },
      "execution_count": 12,
      "outputs": [
        {
          "output_type": "execute_result",
          "data": {
            "text/plain": [
              "'Hello#'"
            ],
            "application/vnd.google.colaboratory.intrinsic+json": {
              "type": "string"
            }
          },
          "metadata": {},
          "execution_count": 12
        }
      ]
    },
    {
      "cell_type": "code",
      "source": [
        "text='there are 3 apples'\n",
        "match=re.findall(r'\\w+',text)\n",
        "match\n"
      ],
      "metadata": {
        "colab": {
          "base_uri": "https://localhost:8080/"
        },
        "id": "5r9AAv0NgS6o",
        "outputId": "8ce2ffa7-8607-4925-afa9-8a5832c9e680"
      },
      "execution_count": 18,
      "outputs": [
        {
          "output_type": "execute_result",
          "data": {
            "text/plain": [
              "['there', 'are', '3', 'apples']"
            ]
          },
          "metadata": {},
          "execution_count": 18
        }
      ]
    },
    {
      "cell_type": "code",
      "source": [
        "text='abc def ghi'\n",
        "match=re.findall(r'\\b[a-zA-Z]{3}\\b',text)\n",
        "match"
      ],
      "metadata": {
        "colab": {
          "base_uri": "https://localhost:8080/"
        },
        "id": "XsTtNmGohCLX",
        "outputId": "5133144e-a207-4b34-ed7d-a477e49bf4dc"
      },
      "execution_count": 20,
      "outputs": [
        {
          "output_type": "execute_result",
          "data": {
            "text/plain": [
              "['abc', 'def', 'ghi']"
            ]
          },
          "metadata": {},
          "execution_count": 20
        }
      ]
    },
    {
      "cell_type": "code",
      "source": [
        "text='123-456-7890'\n",
        "match=re.search(r'\\(?\\d{3}\\)?',text)\n",
        "match.group()"
      ],
      "metadata": {
        "colab": {
          "base_uri": "https://localhost:8080/",
          "height": 36
        },
        "id": "yF-ZF4dgiYsL",
        "outputId": "3148847e-17f5-4ee1-f350-1254ec6e0d19"
      },
      "execution_count": 21,
      "outputs": [
        {
          "output_type": "execute_result",
          "data": {
            "text/plain": [
              "'123'"
            ],
            "application/vnd.google.colaboratory.intrinsic+json": {
              "type": "string"
            }
          },
          "metadata": {},
          "execution_count": 21
        }
      ]
    },
    {
      "cell_type": "code",
      "source": [
        "text = \"my email is test@example.com\"\n",
        "match=re.search(r'[a-zA-Z0-9._%+-]+@[a-zA-Z0-9.-]+\\.[a-zA-Z]{2,}',text)\n",
        "match.group()"
      ],
      "metadata": {
        "colab": {
          "base_uri": "https://localhost:8080/",
          "height": 36
        },
        "id": "0shNc73Yjlt5",
        "outputId": "eab5a125-f3c9-485e-b9c0-2fe9bd9b76dc"
      },
      "execution_count": 26,
      "outputs": [
        {
          "output_type": "execute_result",
          "data": {
            "text/plain": [
              "'test@example.com'"
            ],
            "application/vnd.google.colaboratory.intrinsic+json": {
              "type": "string"
            }
          },
          "metadata": {},
          "execution_count": 26
        }
      ]
    },
    {
      "cell_type": "code",
      "source": [
        "text= '  hello world  '\n",
        "a=re.search(r\"\\S+\",text)\n",
        "a.group()"
      ],
      "metadata": {
        "colab": {
          "base_uri": "https://localhost:8080/",
          "height": 36
        },
        "id": "y3CcNxhSlapN",
        "outputId": "510da456-fca5-4690-93a4-bf804a7ad64f"
      },
      "execution_count": 36,
      "outputs": [
        {
          "output_type": "execute_result",
          "data": {
            "text/plain": [
              "'hello'"
            ],
            "application/vnd.google.colaboratory.intrinsic+json": {
              "type": "string"
            }
          },
          "metadata": {},
          "execution_count": 36
        }
      ]
    },
    {
      "cell_type": "code",
      "source": [
        "text='today date is 08/09/2025'\n",
        "re.findall(r'\\d+',text)"
      ],
      "metadata": {
        "id": "qi52Z9aVnVLl",
        "outputId": "8729b858-6dd3-4da6-a76c-360ae23c0a0e",
        "colab": {
          "base_uri": "https://localhost:8080/"
        }
      },
      "execution_count": 42,
      "outputs": [
        {
          "output_type": "execute_result",
          "data": {
            "text/plain": [
              "['08', '09', '2025']"
            ]
          },
          "metadata": {},
          "execution_count": 42
        }
      ]
    },
    {
      "cell_type": "code",
      "source": [
        "match=re.search(r'\\d{2}/\\d{2}/\\d{4}',text)\n",
        "match.group()"
      ],
      "metadata": {
        "id": "hCgB3ftIolGM",
        "outputId": "c65b587e-1462-482f-f0a1-4c4c4a8946a3",
        "colab": {
          "base_uri": "https://localhost:8080/",
          "height": 36
        }
      },
      "execution_count": 43,
      "outputs": [
        {
          "output_type": "execute_result",
          "data": {
            "text/plain": [
              "'08/09/2025'"
            ],
            "application/vnd.google.colaboratory.intrinsic+json": {
              "type": "string"
            }
          },
          "metadata": {},
          "execution_count": 43
        }
      ]
    },
    {
      "cell_type": "code",
      "source": [
        "import string\n",
        "text=\"hello wrold! lets code #Python #AI\"\n",
        "translator=str.maketrans(\"\",\"\",string.punctuation)\n",
        "cleaned_text=text.translate(translator)\n",
        "print(cleaned_text)"
      ],
      "metadata": {
        "id": "zMEmpfBCo_Ti",
        "outputId": "054c44bb-8a2a-4397-c443-70d249644f39",
        "colab": {
          "base_uri": "https://localhost:8080/"
        }
      },
      "execution_count": 2,
      "outputs": [
        {
          "output_type": "stream",
          "name": "stdout",
          "text": [
            "hello wrold lets code Python AI\n"
          ]
        }
      ]
    },
    {
      "cell_type": "code",
      "source": [
        "text=\"   hello    world   \"\n",
        "print(\" \".join(text.split()))"
      ],
      "metadata": {
        "id": "Jj3YzNcgNI87",
        "outputId": "e9e82855-9979-45a8-f92b-0a9ec91a4eb2",
        "colab": {
          "base_uri": "https://localhost:8080/"
        }
      },
      "execution_count": 4,
      "outputs": [
        {
          "output_type": "stream",
          "name": "stdout",
          "text": [
            "hello world\n"
          ]
        }
      ]
    },
    {
      "cell_type": "code",
      "source": [
        "!pip install contractions"
      ],
      "metadata": {
        "id": "JxsK9dsPO3Cf",
        "outputId": "9d9e6762-9d43-4da5-eab9-e8066210470e",
        "colab": {
          "base_uri": "https://localhost:8080/"
        }
      },
      "execution_count": 6,
      "outputs": [
        {
          "output_type": "stream",
          "name": "stdout",
          "text": [
            "Collecting contractions\n",
            "  Downloading contractions-0.1.73-py2.py3-none-any.whl.metadata (1.2 kB)\n",
            "Collecting textsearch>=0.0.21 (from contractions)\n",
            "  Downloading textsearch-0.0.24-py2.py3-none-any.whl.metadata (1.2 kB)\n",
            "Collecting anyascii (from textsearch>=0.0.21->contractions)\n",
            "  Downloading anyascii-0.3.3-py3-none-any.whl.metadata (1.6 kB)\n",
            "Collecting pyahocorasick (from textsearch>=0.0.21->contractions)\n",
            "  Downloading pyahocorasick-2.2.0-cp312-cp312-manylinux_2_17_x86_64.manylinux2014_x86_64.whl.metadata (13 kB)\n",
            "Downloading contractions-0.1.73-py2.py3-none-any.whl (8.7 kB)\n",
            "Downloading textsearch-0.0.24-py2.py3-none-any.whl (7.6 kB)\n",
            "Downloading anyascii-0.3.3-py3-none-any.whl (345 kB)\n",
            "\u001b[2K   \u001b[90m━━━━━━━━━━━━━━━━━━━━━━━━━━━━━━━━━━━━━━━━\u001b[0m \u001b[32m345.1/345.1 kB\u001b[0m \u001b[31m3.4 MB/s\u001b[0m eta \u001b[36m0:00:00\u001b[0m\n",
            "\u001b[?25hDownloading pyahocorasick-2.2.0-cp312-cp312-manylinux_2_17_x86_64.manylinux2014_x86_64.whl (114 kB)\n",
            "\u001b[2K   \u001b[90m━━━━━━━━━━━━━━━━━━━━━━━━━━━━━━━━━━━━━━━━\u001b[0m \u001b[32m114.9/114.9 kB\u001b[0m \u001b[31m9.5 MB/s\u001b[0m eta \u001b[36m0:00:00\u001b[0m\n",
            "\u001b[?25hInstalling collected packages: pyahocorasick, anyascii, textsearch, contractions\n",
            "Successfully installed anyascii-0.3.3 contractions-0.1.73 pyahocorasick-2.2.0 textsearch-0.0.24\n"
          ]
        }
      ]
    },
    {
      "cell_type": "code",
      "source": [
        "import contractions\n",
        "text = \"I don't like coding at night\"\n",
        "print(contractions.fix(text))"
      ],
      "metadata": {
        "id": "ANIZHWrROJz3",
        "outputId": "88459b71-a92f-4b63-a28c-fca18f096ed4",
        "colab": {
          "base_uri": "https://localhost:8080/"
        }
      },
      "execution_count": 7,
      "outputs": [
        {
          "output_type": "stream",
          "name": "stdout",
          "text": [
            "I do not like coding at night\n"
          ]
        }
      ]
    },
    {
      "cell_type": "code",
      "source": [
        "text=\"don't, shouldn't, wouldn't,didn't,I'd , you'd \"\n",
        "print(contractions.fix(text))"
      ],
      "metadata": {
        "id": "2w-RgdueO8zR",
        "outputId": "d2f75cda-372c-47e1-f17f-6813cf9f246c",
        "colab": {
          "base_uri": "https://localhost:8080/"
        }
      },
      "execution_count": 12,
      "outputs": [
        {
          "output_type": "stream",
          "name": "stdout",
          "text": [
            "do not, should not, would not,did not,I would , you would \n"
          ]
        }
      ]
    },
    {
      "cell_type": "code",
      "source": [
        "text = \"i have 2 bats and 3 balls\"\n",
        "import re\n",
        "cleaned = re.sub(r'\\d',\"\",text)\n",
        "cleaned"
      ],
      "metadata": {
        "id": "1_Z5XvOwPQ8u",
        "outputId": "875fdddb-9f51-4175-e105-e8a694796c52",
        "colab": {
          "base_uri": "https://localhost:8080/",
          "height": 36
        }
      },
      "execution_count": 27,
      "outputs": [
        {
          "output_type": "execute_result",
          "data": {
            "text/plain": [
              "'i have  bats and  balls'"
            ],
            "application/vnd.google.colaboratory.intrinsic+json": {
              "type": "string"
            }
          },
          "metadata": {},
          "execution_count": 27
        }
      ]
    },
    {
      "cell_type": "code",
      "source": [
        "a=[]"
      ],
      "metadata": {
        "id": "Y0i5np2hP8zP"
      },
      "execution_count": 28,
      "outputs": []
    },
    {
      "cell_type": "code",
      "source": [
        "num_to_digit={\n",
        "    \"2\":\"Two\",\n",
        "    \"3\":\"Three\"\n",
        "}"
      ],
      "metadata": {
        "id": "MqSvMaKrQisW"
      },
      "execution_count": 29,
      "outputs": []
    },
    {
      "cell_type": "code",
      "source": [
        "for char in text:\n",
        "  if char.isdigit():\n",
        "    a.append(num_to_digit[char])\n",
        "  else:\n",
        "    a.append(char)"
      ],
      "metadata": {
        "id": "I4eWTuQxQkSb"
      },
      "execution_count": 30,
      "outputs": []
    },
    {
      "cell_type": "code",
      "source": [
        "a"
      ],
      "metadata": {
        "id": "mMWXL9gGRDgd",
        "outputId": "96d03f5f-818f-451a-e1e5-121a091021ac",
        "colab": {
          "base_uri": "https://localhost:8080/"
        }
      },
      "execution_count": 31,
      "outputs": [
        {
          "output_type": "execute_result",
          "data": {
            "text/plain": [
              "['i',\n",
              " ' ',\n",
              " 'h',\n",
              " 'a',\n",
              " 'v',\n",
              " 'e',\n",
              " ' ',\n",
              " 'Two',\n",
              " ' ',\n",
              " 'b',\n",
              " 'a',\n",
              " 't',\n",
              " 's',\n",
              " ' ',\n",
              " 'a',\n",
              " 'n',\n",
              " 'd',\n",
              " ' ',\n",
              " 'Three',\n",
              " ' ',\n",
              " 'b',\n",
              " 'a',\n",
              " 'l',\n",
              " 'l',\n",
              " 's']"
            ]
          },
          "metadata": {},
          "execution_count": 31
        }
      ]
    },
    {
      "cell_type": "code",
      "source": [
        "\"\".join(a)"
      ],
      "metadata": {
        "id": "YilsfA5NRE5Y",
        "outputId": "62698d38-4e3e-4419-9d9f-e7c1d174b1fe",
        "colab": {
          "base_uri": "https://localhost:8080/",
          "height": 36
        }
      },
      "execution_count": 32,
      "outputs": [
        {
          "output_type": "execute_result",
          "data": {
            "text/plain": [
              "'i have Two bats and Three balls'"
            ],
            "application/vnd.google.colaboratory.intrinsic+json": {
              "type": "string"
            }
          },
          "metadata": {},
          "execution_count": 32
        }
      ]
    },
    {
      "cell_type": "code",
      "source": [
        "!pip install pyspellchecker"
      ],
      "metadata": {
        "id": "GwRNH3hbRHZi",
        "outputId": "63a523df-c075-4f24-ffb0-463fe1df7f49",
        "colab": {
          "base_uri": "https://localhost:8080/"
        }
      },
      "execution_count": 33,
      "outputs": [
        {
          "output_type": "stream",
          "name": "stdout",
          "text": [
            "Collecting pyspellchecker\n",
            "  Downloading pyspellchecker-0.8.3-py3-none-any.whl.metadata (9.5 kB)\n",
            "Downloading pyspellchecker-0.8.3-py3-none-any.whl (7.2 MB)\n",
            "\u001b[2K   \u001b[90m━━━━━━━━━━━━━━━━━━━━━━━━━━━━━━━━━━━━━━━━\u001b[0m \u001b[32m7.2/7.2 MB\u001b[0m \u001b[31m31.6 MB/s\u001b[0m eta \u001b[36m0:00:00\u001b[0m\n",
            "\u001b[?25hInstalling collected packages: pyspellchecker\n",
            "Successfully installed pyspellchecker-0.8.3\n"
          ]
        }
      ]
    },
    {
      "cell_type": "code",
      "source": [
        "from spellchecker import SpellChecker\n",
        "spell=SpellChecker()\n",
        "text = 'i think she is sycho'\n",
        "word=text.split()\n",
        "a= \" \".join(spell.correction(word) for word in word )"
      ],
      "metadata": {
        "id": "yumes0lwUNlE"
      },
      "execution_count": 37,
      "outputs": []
    },
    {
      "cell_type": "code",
      "source": [
        "a"
      ],
      "metadata": {
        "id": "v-jQddNkUeG1",
        "outputId": "37d150c0-f443-4668-ed33-a755322de1c7",
        "colab": {
          "base_uri": "https://localhost:8080/",
          "height": 36
        }
      },
      "execution_count": 38,
      "outputs": [
        {
          "output_type": "execute_result",
          "data": {
            "text/plain": [
              "'i think she is psycho'"
            ],
            "application/vnd.google.colaboratory.intrinsic+json": {
              "type": "string"
            }
          },
          "metadata": {},
          "execution_count": 38
        }
      ]
    },
    {
      "cell_type": "code",
      "source": [],
      "metadata": {
        "id": "NqTGWk8fUn56"
      },
      "execution_count": null,
      "outputs": []
    }
  ],
  "metadata": {
    "colab": {
      "name": "Welcome To Colab",
      "toc_visible": true,
      "provenance": [],
      "include_colab_link": true
    },
    "kernelspec": {
      "display_name": "Python 3",
      "name": "python3"
    }
  },
  "nbformat": 4,
  "nbformat_minor": 0
}